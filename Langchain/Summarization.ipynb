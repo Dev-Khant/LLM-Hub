{
 "cells": [
  {
   "cell_type": "code",
   "execution_count": 11,
   "metadata": {},
   "outputs": [],
   "source": [
    "from langchain import OpenAI, PromptTemplate, LLMChain\n",
    "from langchain.chains.mapreduce import MapReduceChain\n",
    "from langchain.prompts import PromptTemplate\n",
    "\n",
    "from langchain.chains.summarize import load_summarize_chain\n",
    "from langchain.docstore.document import Document"
   ]
  },
  {
   "cell_type": "code",
   "execution_count": 17,
   "metadata": {},
   "outputs": [],
   "source": [
    "llm = OpenAI(temperature=0, openai_api_key=\"\")"
   ]
  },
  {
   "cell_type": "code",
   "execution_count": 14,
   "metadata": {},
   "outputs": [],
   "source": [
    "summ = [\"This code defines a simple Flask web application that handles HTTP POST requests. It expects JSON data with 'openaiKey' and 'currentPageLink' fields, prints them to the console, and returns their concatenation as a response. If any required field is missing, it responds with 'Error.' The application runs on localhost at port 8000 and avoids CORS errors using flask_cors.\", \n",
    "\"This JavaScript code interacts with the chrome.storage.sync API to handle OpenAI key storage and redirection in a Chrome extension. It checks if an OpenAI key is already stored; if yes, it redirects to 'home.html'. It listens for form submission and saves the OpenAI key in chrome.storage.sync. After saving, it logs the key and redirects to 'home.html\"]\n",
    "\n",
    "docs = [Document(page_content=t) for t in summ]"
   ]
  },
  {
   "cell_type": "code",
   "execution_count": 18,
   "metadata": {},
   "outputs": [
    {
     "data": {
      "text/plain": [
       "\" This code creates a Flask web application that handles HTTP POST requests with JSON data and a Chrome extension that uses the chrome.storage.sync API to store and manage OpenAI keys. It prints the data to the console, returns the concatenation of the data as a response, and redirects to 'home.html'. It runs on localhost at port 8000 and uses flask_cors to avoid CORS errors.\""
      ]
     },
     "execution_count": 18,
     "metadata": {},
     "output_type": "execute_result"
    }
   ],
   "source": [
    "chain = load_summarize_chain(llm, chain_type=\"map_reduce\")\n",
    "chain.run(docs)"
   ]
  },
  {
   "cell_type": "code",
   "execution_count": null,
   "metadata": {},
   "outputs": [],
   "source": []
  },
  {
   "cell_type": "code",
   "execution_count": null,
   "metadata": {},
   "outputs": [],
   "source": []
  }
 ],
 "metadata": {
  "kernelspec": {
   "display_name": "LLMStuff",
   "language": "python",
   "name": "python3"
  },
  "language_info": {
   "codemirror_mode": {
    "name": "ipython",
    "version": 3
   },
   "file_extension": ".py",
   "mimetype": "text/x-python",
   "name": "python",
   "nbconvert_exporter": "python",
   "pygments_lexer": "ipython3",
   "version": "3.8.10"
  },
  "orig_nbformat": 4
 },
 "nbformat": 4,
 "nbformat_minor": 2
}
