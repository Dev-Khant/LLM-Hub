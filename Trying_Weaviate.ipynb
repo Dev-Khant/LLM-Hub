{
  "nbformat": 4,
  "nbformat_minor": 0,
  "metadata": {
    "colab": {
      "provenance": []
    },
    "kernelspec": {
      "name": "python3",
      "display_name": "Python 3"
    },
    "language_info": {
      "name": "python"
    }
  },
  "cells": [
    {
      "cell_type": "code",
      "source": [
        "!pip install weaviate-client"
      ],
      "metadata": {
        "id": "EFOn6klvA6be",
        "colab": {
          "base_uri": "https://localhost:8080/"
        },
        "outputId": "6f7b4790-fc86-4750-ef7d-57d8d0d5da5d"
      },
      "execution_count": null,
      "outputs": [
        {
          "output_type": "stream",
          "name": "stdout",
          "text": [
            "Collecting weaviate-client\n",
            "  Downloading weaviate_client-3.24.1-py3-none-any.whl (107 kB)\n",
            "\u001b[?25l     \u001b[90m━━━━━━━━━━━━━━━━━━━━━━━━━━━━━━━━━━━━━━━━\u001b[0m \u001b[32m0.0/108.0 kB\u001b[0m \u001b[31m?\u001b[0m eta \u001b[36m-:--:--\u001b[0m\r\u001b[2K     \u001b[91m━━━━━━━━━━━━━━━━━━━━━━━━━━━━━━━━━━━━\u001b[0m\u001b[91m╸\u001b[0m\u001b[90m━━\u001b[0m \u001b[32m102.4/108.0 kB\u001b[0m \u001b[31m3.1 MB/s\u001b[0m eta \u001b[36m0:00:01\u001b[0m\r\u001b[2K     \u001b[90m━━━━━━━━━━━━━━━━━━━━━━━━━━━━━━━━━━━━━━━\u001b[0m \u001b[32m108.0/108.0 kB\u001b[0m \u001b[31m2.6 MB/s\u001b[0m eta \u001b[36m0:00:00\u001b[0m\n",
            "\u001b[?25hRequirement already satisfied: requests<3.0.0,>=2.30.0 in /usr/local/lib/python3.10/dist-packages (from weaviate-client) (2.31.0)\n",
            "Collecting validators<1.0.0,>=0.21.2 (from weaviate-client)\n",
            "  Downloading validators-0.22.0-py3-none-any.whl (26 kB)\n",
            "Collecting authlib<2.0.0,>=1.2.1 (from weaviate-client)\n",
            "  Downloading Authlib-1.2.1-py2.py3-none-any.whl (215 kB)\n",
            "\u001b[2K     \u001b[90m━━━━━━━━━━━━━━━━━━━━━━━━━━━━━━━━━━━━━━━\u001b[0m \u001b[32m215.3/215.3 kB\u001b[0m \u001b[31m8.6 MB/s\u001b[0m eta \u001b[36m0:00:00\u001b[0m\n",
            "\u001b[?25hRequirement already satisfied: cryptography>=3.2 in /usr/local/lib/python3.10/dist-packages (from authlib<2.0.0,>=1.2.1->weaviate-client) (41.0.3)\n",
            "Requirement already satisfied: charset-normalizer<4,>=2 in /usr/local/lib/python3.10/dist-packages (from requests<3.0.0,>=2.30.0->weaviate-client) (3.2.0)\n",
            "Requirement already satisfied: idna<4,>=2.5 in /usr/local/lib/python3.10/dist-packages (from requests<3.0.0,>=2.30.0->weaviate-client) (3.4)\n",
            "Requirement already satisfied: urllib3<3,>=1.21.1 in /usr/local/lib/python3.10/dist-packages (from requests<3.0.0,>=2.30.0->weaviate-client) (2.0.4)\n",
            "Requirement already satisfied: certifi>=2017.4.17 in /usr/local/lib/python3.10/dist-packages (from requests<3.0.0,>=2.30.0->weaviate-client) (2023.7.22)\n",
            "Requirement already satisfied: cffi>=1.12 in /usr/local/lib/python3.10/dist-packages (from cryptography>=3.2->authlib<2.0.0,>=1.2.1->weaviate-client) (1.15.1)\n",
            "Requirement already satisfied: pycparser in /usr/local/lib/python3.10/dist-packages (from cffi>=1.12->cryptography>=3.2->authlib<2.0.0,>=1.2.1->weaviate-client) (2.21)\n",
            "Installing collected packages: validators, authlib, weaviate-client\n",
            "Successfully installed authlib-1.2.1 validators-0.22.0 weaviate-client-3.24.1\n"
          ]
        }
      ]
    },
    {
      "cell_type": "code",
      "source": [
        "import weaviate\n",
        "import pandas as pd"
      ],
      "metadata": {
        "id": "4XcDwQWkK84F"
      },
      "execution_count": null,
      "outputs": []
    },
    {
      "cell_type": "code",
      "source": [
        "auth_config = weaviate.AuthApiKey(api_key=\"\")  # Replace w/ your Weaviate instance API key\n",
        "\n",
        "# Instantiate the client\n",
        "client = weaviate.Client(\n",
        "    url=\"https://dk-q536umeo.weaviate.network\", # Replace w/ your Weaviate cluster URL\n",
        "    auth_client_secret=auth_config,\n",
        "    additional_headers={\n",
        "        \"X-OpenAI-Api-Key\": \"\", # Replace with your OpenAI key\n",
        "        }\n",
        ")"
      ],
      "metadata": {
        "id": "KCR8UZzQA6X7"
      },
      "execution_count": null,
      "outputs": []
    },
    {
      "cell_type": "code",
      "source": [
        "client.is_ready()"
      ],
      "metadata": {
        "id": "sLKfjY-9A6V8",
        "colab": {
          "base_uri": "https://localhost:8080/"
        },
        "outputId": "ae285100-b56d-44be-8ae2-3c67188c9f33"
      },
      "execution_count": null,
      "outputs": [
        {
          "output_type": "execute_result",
          "data": {
            "text/plain": [
              "True"
            ]
          },
          "metadata": {},
          "execution_count": 4
        }
      ]
    },
    {
      "cell_type": "code",
      "source": [
        "df = pd.read_csv(\"spotify-2023.csv\",encoding='latin-1', nrows=100)"
      ],
      "metadata": {
        "id": "q2MrvDIDXJgR"
      },
      "execution_count": null,
      "outputs": []
    },
    {
      "cell_type": "code",
      "source": [
        "df.iloc[0].to_dict()"
      ],
      "metadata": {
        "colab": {
          "base_uri": "https://localhost:8080/"
        },
        "id": "_gqKEXIuEb4Q",
        "outputId": "dbe21235-f925-4945-a9e4-cb9e0c351555"
      },
      "execution_count": null,
      "outputs": [
        {
          "output_type": "execute_result",
          "data": {
            "text/plain": [
              "{'track_name': 'Seven (feat. Latto) (Explicit Ver.)',\n",
              " 'artist(s)_name': 'Latto, Jung Kook',\n",
              " 'artist_count': 2,\n",
              " 'released_year': 2023,\n",
              " 'released_month': 7,\n",
              " 'released_day': 14,\n",
              " 'in_spotify_playlists': 553,\n",
              " 'in_spotify_charts': 147,\n",
              " 'streams': '141381703',\n",
              " 'in_apple_playlists': 43,\n",
              " 'in_apple_charts': 263,\n",
              " 'in_deezer_playlists': '45',\n",
              " 'in_deezer_charts': 10,\n",
              " 'in_shazam_charts': '826',\n",
              " 'bpm': 125,\n",
              " 'key': 'B',\n",
              " 'mode': 'Major',\n",
              " 'danceability_%': 80,\n",
              " 'valence_%': 89,\n",
              " 'energy_%': 83,\n",
              " 'acousticness_%': 31,\n",
              " 'instrumentalness_%': 0,\n",
              " 'liveness_%': 8,\n",
              " 'speechiness_%': 4}"
            ]
          },
          "metadata": {},
          "execution_count": 25
        }
      ]
    },
    {
      "cell_type": "code",
      "source": [
        "class_obj = {\n",
        "    # Class definition\n",
        "    \"class\": \"spotify\",\n",
        "\n",
        "    # Specify a vectorizer\n",
        "    \"vectorizer\": \"text2vec-openai\",\n",
        "}"
      ],
      "metadata": {
        "id": "bWckw0P3SZkq"
      },
      "execution_count": null,
      "outputs": []
    },
    {
      "cell_type": "code",
      "source": [
        "re = client.schema.create_class(class_obj)"
      ],
      "metadata": {
        "id": "NY0frzB9SZoH"
      },
      "execution_count": null,
      "outputs": []
    },
    {
      "cell_type": "code",
      "source": [
        "re"
      ],
      "metadata": {
        "id": "MwLaPu3a7Cab"
      },
      "execution_count": null,
      "outputs": []
    },
    {
      "cell_type": "code",
      "execution_count": null,
      "metadata": {
        "id": "SWjmKnmdA2PL",
        "colab": {
          "base_uri": "https://localhost:8080/",
          "height": 355
        },
        "outputId": "cb9ab551-f604-47ec-8c0a-5d0f2de64b65"
      },
      "outputs": [
        {
          "output_type": "error",
          "ename": "UnexpectedStatusCodeException",
          "evalue": "ignored",
          "traceback": [
            "\u001b[0;31m---------------------------------------------------------------------------\u001b[0m",
            "\u001b[0;31mUnexpectedStatusCodeException\u001b[0m             Traceback (most recent call last)",
            "\u001b[0;32m<ipython-input-10-b03c6ef4c0b0>\u001b[0m in \u001b[0;36m<cell line: 2>\u001b[0;34m()\u001b[0m\n\u001b[1;32m      1\u001b[0m \u001b[0;32mimport\u001b[0m \u001b[0mjson\u001b[0m\u001b[0;34m\u001b[0m\u001b[0;34m\u001b[0m\u001b[0m\n\u001b[0;32m----> 2\u001b[0;31m \u001b[0mresponse\u001b[0m \u001b[0;34m=\u001b[0m \u001b[0mclient\u001b[0m\u001b[0;34m.\u001b[0m\u001b[0mschema\u001b[0m\u001b[0;34m.\u001b[0m\u001b[0mget\u001b[0m\u001b[0;34m(\u001b[0m\u001b[0;34m\"iuiwer\"\u001b[0m\u001b[0;34m)\u001b[0m\u001b[0;34m\u001b[0m\u001b[0;34m\u001b[0m\u001b[0m\n\u001b[0m\u001b[1;32m      3\u001b[0m \u001b[0mprint\u001b[0m\u001b[0;34m(\u001b[0m\u001b[0mjson\u001b[0m\u001b[0;34m.\u001b[0m\u001b[0mdumps\u001b[0m\u001b[0;34m(\u001b[0m\u001b[0mresponse\u001b[0m\u001b[0;34m,\u001b[0m \u001b[0mindent\u001b[0m\u001b[0;34m=\u001b[0m\u001b[0;36m2\u001b[0m\u001b[0;34m)\u001b[0m\u001b[0;34m)\u001b[0m\u001b[0;34m\u001b[0m\u001b[0;34m\u001b[0m\u001b[0m\n",
            "\u001b[0;32m/usr/local/lib/python3.10/dist-packages/weaviate/schema/crud_schema.py\u001b[0m in \u001b[0;36mget\u001b[0;34m(self, class_name)\u001b[0m\n\u001b[1;32m    569\u001b[0m             \u001b[0;32mraise\u001b[0m \u001b[0mRequestsConnectionError\u001b[0m\u001b[0;34m(\u001b[0m\u001b[0;34m\"Schema could not be retrieved.\"\u001b[0m\u001b[0;34m)\u001b[0m \u001b[0;32mfrom\u001b[0m \u001b[0mconn_err\u001b[0m\u001b[0;34m\u001b[0m\u001b[0;34m\u001b[0m\u001b[0m\n\u001b[1;32m    570\u001b[0m \u001b[0;34m\u001b[0m\u001b[0m\n\u001b[0;32m--> 571\u001b[0;31m         \u001b[0mres\u001b[0m \u001b[0;34m=\u001b[0m \u001b[0m_decode_json_response_dict\u001b[0m\u001b[0;34m(\u001b[0m\u001b[0mresponse\u001b[0m\u001b[0;34m,\u001b[0m \u001b[0;34m\"Get schema\"\u001b[0m\u001b[0;34m)\u001b[0m\u001b[0;34m\u001b[0m\u001b[0;34m\u001b[0m\u001b[0m\n\u001b[0m\u001b[1;32m    572\u001b[0m         \u001b[0;32massert\u001b[0m \u001b[0mres\u001b[0m \u001b[0;32mis\u001b[0m \u001b[0;32mnot\u001b[0m \u001b[0;32mNone\u001b[0m\u001b[0;34m\u001b[0m\u001b[0;34m\u001b[0m\u001b[0m\n\u001b[1;32m    573\u001b[0m         \u001b[0;32mreturn\u001b[0m \u001b[0mres\u001b[0m\u001b[0;34m\u001b[0m\u001b[0;34m\u001b[0m\u001b[0m\n",
            "\u001b[0;32m/usr/local/lib/python3.10/dist-packages/weaviate/util.py\u001b[0m in \u001b[0;36m_decode_json_response_dict\u001b[0;34m(response, location)\u001b[0m\n\u001b[1;32m    796\u001b[0m             \u001b[0;32mraise\u001b[0m \u001b[0mResponseCannotBeDecodedException\u001b[0m\u001b[0;34m(\u001b[0m\u001b[0mlocation\u001b[0m\u001b[0;34m,\u001b[0m \u001b[0mresponse\u001b[0m\u001b[0;34m)\u001b[0m\u001b[0;34m\u001b[0m\u001b[0;34m\u001b[0m\u001b[0m\n\u001b[1;32m    797\u001b[0m \u001b[0;34m\u001b[0m\u001b[0m\n\u001b[0;32m--> 798\u001b[0;31m     \u001b[0;32mraise\u001b[0m \u001b[0mUnexpectedStatusCodeException\u001b[0m\u001b[0;34m(\u001b[0m\u001b[0mlocation\u001b[0m\u001b[0;34m,\u001b[0m \u001b[0mresponse\u001b[0m\u001b[0;34m)\u001b[0m\u001b[0;34m\u001b[0m\u001b[0;34m\u001b[0m\u001b[0m\n\u001b[0m\u001b[1;32m    799\u001b[0m \u001b[0;34m\u001b[0m\u001b[0m\n\u001b[1;32m    800\u001b[0m \u001b[0;34m\u001b[0m\u001b[0m\n",
            "\u001b[0;31mUnexpectedStatusCodeException\u001b[0m: Get schema! Unexpected status code: 404, with response body: None."
          ]
        }
      ],
      "source": [
        "import json\n",
        "response = client.schema.get(\"spotify\")\n",
        "print(json.dumps(response, indent=2))"
      ]
    },
    {
      "cell_type": "code",
      "source": [
        "x = {\"d1\" : \"'track_name: Seven (feat. Latto)', '(Explicit Ver.), artist(s)_name: Latto,', 'Jung Kook, artist_count: 2,', 'released_year: 2023, released_month: 7,', 'released_day: 14, in_spotify_playlists:', '553, in_spotify_charts: 147, streams:', '141381703, in_apple_playlists: 43,', 'in_apple_charts: 263,', 'in_deezer_playlists: 45,', 'in_deezer_charts: 10, in_shazam_charts:', '826, bpm: 125, key: B, mode: Major,', 'danceability_%: 80, valence_%: 89,', 'energy_%: 83, acousticness_%: 31,', 'instrumentalness_%: 0, liveness_%: 8,', 'speechiness_%: 4', 'track_name: LALA, artist(s)_name: Myke', 'Towers, artist_count: 1, released_year:', '2023, released_month: 3, released_day:', '23, in_spotify_playlists: 1474,', 'in_spotify_charts: 48, streams:', '133716286, in_apple_playlists: 48,', 'in_apple_charts: 126,', 'in_deezer_playlists: 58,', 'in_deezer_charts: 14, in_shazam_charts:', '382, bpm: 92, key: C#, mode: Major,', 'danceability_%: 71, valence_%: 61,', 'energy_%: 74, acousticness_%: 7,', 'instrumentalness_%: 0, liveness_%: 10,', 'track_name: vampire, artist(s)_name:', 'Olivia Rodrigo, artist_count: 1,', 'released_year: 2023, released_month: 6,', 'released_day: 30, in_spotify_playlists:', '1397, in_spotify_charts: 113, streams:', '140003974, in_apple_playlists: 94,', 'in_apple_charts: 207,', 'in_deezer_playlists: 91,', '949, bpm: 138, key: F, mode: Major,', 'danceability_%: 51, valence_%: 32,', 'energy_%: 53, acousticness_%: 17,', 'instrumentalness_%: 0, liveness_%: 31,', 'speechiness_%: 6', 'track_name: Cruel Summer,', 'artist(s)_name: Taylor Swift,', 'artist_count: 1, released_year: 2019,', 'released_month: 8, released_day: 23,', 'in_spotify_playlists: 7858,', 'in_spotify_charts: 100, streams:', '800840817, in_apple_playlists: 116,', 'in_deezer_playlists: 125,', 'in_deezer_charts: 12, in_shazam_charts:', '548, bpm: 170, key: A, mode: Major,', 'danceability_%: 55, valence_%: 58,', 'energy_%: 72, acousticness_%: 11,', 'instrumentalness_%: 0, liveness_%: 11,', 'speechiness_%: 15', 'track_name: WHERE SHE GOES,', 'artist(s)_name: Bad Bunny,', 'artist_count: 1, released_year: 2023,', 'released_month: 5, released_day: 18,', 'in_spotify_playlists: 3133,', 'in_spotify_charts: 50, streams:', '303236322, in_apple_playlists: 84,', 'in_apple_charts: 133,', 'in_deezer_playlists: 87,', 'in_deezer_charts: 15, in_shazam_charts:', '425, bpm: 144, key: A, mode: Minor,', 'danceability_%: 65, valence_%: 23,', 'energy_%: 80, acousticness_%: 14,', 'instrumentalness_%: 63, liveness_%: 11,', 'track_name: Sprinter, artist(s)_name:', 'Dave, Central Cee, artist_count: 2,', 'released_day: 1, in_spotify_playlists:', '2186, in_spotify_charts: 91, streams:', '183706234, in_apple_playlists: 67,', 'in_apple_charts: 213,', 'in_deezer_playlists: 88,', 'in_deezer_charts: 17, in_shazam_charts:', '946, bpm: 141, key: C#, mode: Major,', 'danceability_%: 92, valence_%: 66,', 'energy_%: 58, acousticness_%: 19,', 'speechiness_%: 24', 'track_name: Ella Baila Sola,', 'artist(s)_name: Eslabon Armado, Peso', 'Pluma, artist_count: 2, released_year:', '16, in_spotify_playlists: 3090,', '725980112, in_apple_playlists: 34,', 'in_apple_charts: 222,', 'in_deezer_playlists: 43,', 'in_deezer_charts: 13, in_shazam_charts:', '418, bpm: 148, key: F, mode: Minor,', 'danceability_%: 67, valence_%: 83,', 'energy_%: 76, acousticness_%: 48,', 'speechiness_%: 3', 'track_name: Columbia, artist(s)_name:', 'Quevedo, artist_count: 1,', 'released_day: 7, in_spotify_playlists:', '714, in_spotify_charts: 43, streams:', '58149378, in_apple_playlists: 25,', 'in_apple_charts: 89,', 'in_deezer_playlists: 30,', '194, bpm: 100, key: F, mode: Major,', 'danceability_%: 67, valence_%: 26,', 'energy_%: 71, acousticness_%: 37,', 'track_name: fukumean, artist(s)_name:', 'Gunna, artist_count: 1, released_year:', '2023, released_month: 5, released_day:', '15, in_spotify_playlists: 1096,', 'in_spotify_charts: 83, streams:', '95217315, in_apple_playlists: 60,', 'in_apple_charts: 210,', 'in_deezer_playlists: 48,', 'in_deezer_charts: 11, in_shazam_charts:', '953, bpm: 130, key: C#, mode: Minor,', 'danceability_%: 85, valence_%: 22,', 'energy_%: 62, acousticness_%: 12,', 'instrumentalness_%: 0, liveness_%: 28,', 'speechiness_%: 9'\"}"
      ],
      "metadata": {
        "id": "2MgXudmu1iV1"
      },
      "execution_count": null,
      "outputs": []
    },
    {
      "cell_type": "code",
      "source": [
        "for obj in x:\n",
        "    print(x[obj])"
      ],
      "metadata": {
        "colab": {
          "base_uri": "https://localhost:8080/"
        },
        "id": "r4FMhf3t2_2i",
        "outputId": "1e6a035c-43f6-4d95-b2c9-9f6feea9e9f6"
      },
      "execution_count": null,
      "outputs": [
        {
          "output_type": "stream",
          "name": "stdout",
          "text": [
            "'track_name: Seven (feat. Latto)', '(Explicit Ver.), artist(s)_name: Latto,', 'Jung Kook, artist_count: 2,', 'released_year: 2023, released_month: 7,', 'released_day: 14, in_spotify_playlists:', '553, in_spotify_charts: 147, streams:', '141381703, in_apple_playlists: 43,', 'in_apple_charts: 263,', 'in_deezer_playlists: 45,', 'in_deezer_charts: 10, in_shazam_charts:', '826, bpm: 125, key: B, mode: Major,', 'danceability_%: 80, valence_%: 89,', 'energy_%: 83, acousticness_%: 31,', 'instrumentalness_%: 0, liveness_%: 8,', 'speechiness_%: 4', 'track_name: LALA, artist(s)_name: Myke', 'Towers, artist_count: 1, released_year:', '2023, released_month: 3, released_day:', '23, in_spotify_playlists: 1474,', 'in_spotify_charts: 48, streams:', '133716286, in_apple_playlists: 48,', 'in_apple_charts: 126,', 'in_deezer_playlists: 58,', 'in_deezer_charts: 14, in_shazam_charts:', '382, bpm: 92, key: C#, mode: Major,', 'danceability_%: 71, valence_%: 61,', 'energy_%: 74, acousticness_%: 7,', 'instrumentalness_%: 0, liveness_%: 10,', 'track_name: vampire, artist(s)_name:', 'Olivia Rodrigo, artist_count: 1,', 'released_year: 2023, released_month: 6,', 'released_day: 30, in_spotify_playlists:', '1397, in_spotify_charts: 113, streams:', '140003974, in_apple_playlists: 94,', 'in_apple_charts: 207,', 'in_deezer_playlists: 91,', '949, bpm: 138, key: F, mode: Major,', 'danceability_%: 51, valence_%: 32,', 'energy_%: 53, acousticness_%: 17,', 'instrumentalness_%: 0, liveness_%: 31,', 'speechiness_%: 6', 'track_name: Cruel Summer,', 'artist(s)_name: Taylor Swift,', 'artist_count: 1, released_year: 2019,', 'released_month: 8, released_day: 23,', 'in_spotify_playlists: 7858,', 'in_spotify_charts: 100, streams:', '800840817, in_apple_playlists: 116,', 'in_deezer_playlists: 125,', 'in_deezer_charts: 12, in_shazam_charts:', '548, bpm: 170, key: A, mode: Major,', 'danceability_%: 55, valence_%: 58,', 'energy_%: 72, acousticness_%: 11,', 'instrumentalness_%: 0, liveness_%: 11,', 'speechiness_%: 15', 'track_name: WHERE SHE GOES,', 'artist(s)_name: Bad Bunny,', 'artist_count: 1, released_year: 2023,', 'released_month: 5, released_day: 18,', 'in_spotify_playlists: 3133,', 'in_spotify_charts: 50, streams:', '303236322, in_apple_playlists: 84,', 'in_apple_charts: 133,', 'in_deezer_playlists: 87,', 'in_deezer_charts: 15, in_shazam_charts:', '425, bpm: 144, key: A, mode: Minor,', 'danceability_%: 65, valence_%: 23,', 'energy_%: 80, acousticness_%: 14,', 'instrumentalness_%: 63, liveness_%: 11,', 'track_name: Sprinter, artist(s)_name:', 'Dave, Central Cee, artist_count: 2,', 'released_day: 1, in_spotify_playlists:', '2186, in_spotify_charts: 91, streams:', '183706234, in_apple_playlists: 67,', 'in_apple_charts: 213,', 'in_deezer_playlists: 88,', 'in_deezer_charts: 17, in_shazam_charts:', '946, bpm: 141, key: C#, mode: Major,', 'danceability_%: 92, valence_%: 66,', 'energy_%: 58, acousticness_%: 19,', 'speechiness_%: 24', 'track_name: Ella Baila Sola,', 'artist(s)_name: Eslabon Armado, Peso', 'Pluma, artist_count: 2, released_year:', '16, in_spotify_playlists: 3090,', '725980112, in_apple_playlists: 34,', 'in_apple_charts: 222,', 'in_deezer_playlists: 43,', 'in_deezer_charts: 13, in_shazam_charts:', '418, bpm: 148, key: F, mode: Minor,', 'danceability_%: 67, valence_%: 83,', 'energy_%: 76, acousticness_%: 48,', 'speechiness_%: 3', 'track_name: Columbia, artist(s)_name:', 'Quevedo, artist_count: 1,', 'released_day: 7, in_spotify_playlists:', '714, in_spotify_charts: 43, streams:', '58149378, in_apple_playlists: 25,', 'in_apple_charts: 89,', 'in_deezer_playlists: 30,', '194, bpm: 100, key: F, mode: Major,', 'danceability_%: 67, valence_%: 26,', 'energy_%: 71, acousticness_%: 37,', 'track_name: fukumean, artist(s)_name:', 'Gunna, artist_count: 1, released_year:', '2023, released_month: 5, released_day:', '15, in_spotify_playlists: 1096,', 'in_spotify_charts: 83, streams:', '95217315, in_apple_playlists: 60,', 'in_apple_charts: 210,', 'in_deezer_playlists: 48,', 'in_deezer_charts: 11, in_shazam_charts:', '953, bpm: 130, key: C#, mode: Minor,', 'danceability_%: 85, valence_%: 22,', 'energy_%: 62, acousticness_%: 12,', 'instrumentalness_%: 0, liveness_%: 28,', 'speechiness_%: 9'\n"
          ]
        }
      ]
    },
    {
      "cell_type": "code",
      "source": [
        "from weaviate.util import generate_uuid5\n",
        "\n",
        "with client.batch(\n",
        "    batch_size=200,  # Specify batch siz\n",
        "    num_workers=2,   # Parallelize the process\n",
        ") as batch:\n",
        "    batch.add_data_object(\n",
        "        x,\n",
        "        class_name=\"spotify\",\n",
        "        uuid=generate_uuid5(x)\n",
        "    )"
      ],
      "metadata": {
        "id": "HzgasdIvYD0q"
      },
      "execution_count": null,
      "outputs": []
    },
    {
      "cell_type": "code",
      "source": [],
      "metadata": {
        "id": "RYGFkeTa4DUD"
      },
      "execution_count": null,
      "outputs": []
    },
    {
      "cell_type": "code",
      "source": [],
      "metadata": {
        "id": "3VEuB1a6YD4D"
      },
      "execution_count": null,
      "outputs": []
    }
  ]
}